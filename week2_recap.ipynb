{
  "nbformat": 4,
  "nbformat_minor": 0,
  "metadata": {
    "colab": {
      "name": "week2-recap.ipynb",
      "provenance": [],
      "authorship_tag": "ABX9TyP9aMr6choafprk+1A4C+BN",
      "include_colab_link": true
    },
    "kernelspec": {
      "name": "python3",
      "display_name": "Python 3"
    },
    "language_info": {
      "name": "python"
    }
  },
  "cells": [
    {
      "cell_type": "markdown",
      "metadata": {
        "id": "view-in-github",
        "colab_type": "text"
      },
      "source": [
        "<a href=\"https://colab.research.google.com/github/yijjmm/2021-AI/blob/main/week2_recap.ipynb\" target=\"_parent\"><img src=\"https://colab.research.google.com/assets/colab-badge.svg\" alt=\"Open In Colab\"/></a>"
      ]
    },
    {
      "cell_type": "markdown",
      "metadata": {
        "id": "K-NojNDQg_X7"
      },
      "source": [
        "UML 구성하기<br><b>Car</b><br>\n",
        "\n",
        "속성 attribute<br>\n",
        "is_engine_on<br>\n",
        "max_speed<br>\n",
        "num_person<br>\n",
        "current_speed<br><br>\n",
        "\n",
        "메소드(동작) method<br>\n",
        "engine_on()<br>\n",
        "engine_off()<br>\n",
        "accelerate(speed) -현재속도에서 속도를 더함. 0<=result<=max_speed<br>"
      ]
    },
    {
      "cell_type": "code",
      "metadata": {
        "id": "Oov9E7Faf3gJ"
      },
      "source": [
        "class Car:\n",
        "    def __init__(self, max_speed, num_person):\n",
        "        self.max_speed = max_speed #두 max_speed는 다른 변수. \n",
        "        self.num_person = num_person\n",
        "\n",
        "        self.is_engine_on = False #참거짓 표현할 때에 변수에 is를 넣는것이 보통\n",
        "        self.current_speed = 0\n",
        "\n",
        "    def engine_on(self):\n",
        "        self.is_engine_on = True\n",
        "\n",
        "    def engine_off(self):\n",
        "        self.is_engine_on = False\n",
        "        self.current_speed = 0\n",
        "\n",
        "    def accelerate(self, speed=10): #speed 기본값 지정\n",
        "        self.current_speed += speed\n",
        "\n",
        "        if self.current_speed > self.max_speed:\n",
        "            self.current_speed = self.max_speed\n",
        "        \n",
        "        elif self.current_speed < 0:\n",
        "            self.current_speed = 0\n",
        "  "
      ],
      "execution_count": 22,
      "outputs": []
    },
    {
      "cell_type": "code",
      "metadata": {
        "colab": {
          "base_uri": "https://localhost:8080/"
        },
        "id": "Dod7kjw4jGK3",
        "outputId": "1ccfd19d-edcc-4e28-f9d8-167dc26aba22"
      },
      "source": [
        "car1 = Car(80, 4)\n",
        "\n",
        "car1.accelerate(50)\n",
        "print(car1.current_speed)\n",
        "\n",
        "car1.accelerate(50)\n",
        "print(car1.current_speed)\n",
        "\n",
        "car1.accelerate(-100)\n",
        "print(car1.current_speed)\n",
        "\n",
        "car1.accelerate()\n",
        "print(car1.current_speed)"
      ],
      "execution_count": 27,
      "outputs": [
        {
          "output_type": "stream",
          "text": [
            "50\n",
            "80\n",
            "0\n",
            "10\n"
          ],
          "name": "stdout"
        }
      ]
    },
    {
      "cell_type": "code",
      "metadata": {
        "colab": {
          "base_uri": "https://localhost:8080/"
        },
        "id": "XtA_IcOGjWEN",
        "outputId": "f2adb04b-7d3b-4f09-cadf-a481f283a95e"
      },
      "source": [
        "car1.current_speed"
      ],
      "execution_count": 24,
      "outputs": [
        {
          "output_type": "execute_result",
          "data": {
            "text/plain": [
              "0"
            ]
          },
          "metadata": {
            "tags": []
          },
          "execution_count": 24
        }
      ]
    },
    {
      "cell_type": "code",
      "metadata": {
        "id": "5D0K8KkwlKr3"
      },
      "source": [
        "car1.accelerate(50)"
      ],
      "execution_count": 25,
      "outputs": []
    },
    {
      "cell_type": "code",
      "metadata": {
        "colab": {
          "base_uri": "https://localhost:8080/"
        },
        "id": "robligK1lMqi",
        "outputId": "ae7735de-7843-43e6-ecf9-d7b41aa12b2d"
      },
      "source": [
        "car1.current_speed"
      ],
      "execution_count": 26,
      "outputs": [
        {
          "output_type": "execute_result",
          "data": {
            "text/plain": [
              "50"
            ]
          },
          "metadata": {
            "tags": []
          },
          "execution_count": 26
        }
      ]
    },
    {
      "cell_type": "code",
      "metadata": {
        "id": "CDlvMk7glznZ"
      },
      "source": [
        "class SuperCar(Car): #Car를 상속받음\n",
        "    def __init__(self, max_speed, num_person, brand):\n",
        "        Car.__init__(self, max_speed, num_person)\n",
        "        self.brand = brand"
      ],
      "execution_count": 36,
      "outputs": []
    },
    {
      "cell_type": "code",
      "metadata": {
        "id": "gTUDkQc6nhkz"
      },
      "source": [
        "super_car1 = SuperCar(300, 2, \"porsche\")"
      ],
      "execution_count": 37,
      "outputs": []
    },
    {
      "cell_type": "code",
      "metadata": {
        "colab": {
          "base_uri": "https://localhost:8080/",
          "height": 53
        },
        "id": "hvOmF9_YojSA",
        "outputId": "212b7ec4-edc3-4304-849d-5f9cd025a22a"
      },
      "source": [
        "super_car1.accelerate(50)\n",
        "print(super_car1.current_speed)\n",
        "\n",
        "super_car1.brand"
      ],
      "execution_count": 38,
      "outputs": [
        {
          "output_type": "stream",
          "text": [
            "50\n"
          ],
          "name": "stdout"
        },
        {
          "output_type": "execute_result",
          "data": {
            "application/vnd.google.colaboratory.intrinsic+json": {
              "type": "string"
            },
            "text/plain": [
              "'porsche'"
            ]
          },
          "metadata": {
            "tags": []
          },
          "execution_count": 38
        }
      ]
    },
    {
      "cell_type": "code",
      "metadata": {
        "id": "CaYuFFRzorfe"
      },
      "source": [
        ""
      ],
      "execution_count": null,
      "outputs": []
    }
  ]
}