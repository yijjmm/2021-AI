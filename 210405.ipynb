{
  "nbformat": 4,
  "nbformat_minor": 0,
  "metadata": {
    "colab": {
      "name": "Untitled0.ipynb",
      "provenance": [],
      "authorship_tag": "ABX9TyMNAqb4sGN4BfofTnIH6AAk",
      "include_colab_link": true
    },
    "kernelspec": {
      "name": "python3",
      "display_name": "Python 3"
    },
    "language_info": {
      "name": "python"
    }
  },
  "cells": [
    {
      "cell_type": "markdown",
      "metadata": {
        "id": "view-in-github",
        "colab_type": "text"
      },
      "source": [
        "<a href=\"https://colab.research.google.com/github/yijjmm/2021-AI/blob/main/210405.ipynb\" target=\"_parent\"><img src=\"https://colab.research.google.com/assets/colab-badge.svg\" alt=\"Open In Colab\"/></a>"
      ]
    },
    {
      "cell_type": "markdown",
      "metadata": {
        "id": "cGRxAVJptIM2"
      },
      "source": [
        "# 1. NumPy"
      ]
    },
    {
      "cell_type": "markdown",
      "metadata": {
        "id": "XiaQ4QH8unuY"
      },
      "source": [
        "**1-2. Why do we need NumPy?**"
      ]
    },
    {
      "cell_type": "code",
      "metadata": {
        "id": "cgtan_rgs_UW"
      },
      "source": [
        "import numpy as np\n",
        "import timeit"
      ],
      "execution_count": 1,
      "outputs": []
    },
    {
      "cell_type": "code",
      "metadata": {
        "id": "c3BpWDVFttQw"
      },
      "source": [
        "def sum_for_loop(n=100_000_000):\n",
        "    result = 0;\n",
        "    for i in range(n):\n",
        "        result += i\n",
        "    return result\n",
        "\n",
        "def sum_built_in(n=100_000_000):\n",
        "    return sum(range(n))\n",
        "\n",
        "def sum_numpy(n=100_000_000):\n",
        "    return np.sum(np.arange(n))\n",
        "\n",
        "def sum_math(n=100_000_000):\n",
        "    return n*(n+1)/2"
      ],
      "execution_count": 6,
      "outputs": []
    },
    {
      "cell_type": "code",
      "metadata": {
        "colab": {
          "base_uri": "https://localhost:8080/"
        },
        "id": "720bOYOGuCnS",
        "outputId": "32035998-5e60-48b0-8b14-2c6b056abcca"
      },
      "source": [
        "for func in (sum_for_loop, sum_built_in, sum_numpy, sum_math):\n",
        "      print(f'{func.__name__}\\t{timeit.timeit(func, number=1)}')"
      ],
      "execution_count": 8,
      "outputs": [
        {
          "output_type": "stream",
          "text": [
            "sum_for_loop\t6.9514896059999955\n",
            "sum_built_in\t2.2120573029999946\n",
            "sum_numpy\t0.1902186620000066\n",
            "sum_math\t4.271000022981752e-06\n"
          ],
          "name": "stdout"
        }
      ]
    },
    {
      "cell_type": "markdown",
      "metadata": {
        "id": "Z6XYz0V3vj_v"
      },
      "source": [
        "**1-3. ndarray**"
      ]
    },
    {
      "cell_type": "code",
      "metadata": {
        "colab": {
          "base_uri": "https://localhost:8080/"
        },
        "id": "OB2AMWqyuMlw",
        "outputId": "012a57ad-ccb0-4dfd-879c-84360fe61bf0"
      },
      "source": [
        "a = np.array([[1, 2, 3], #[2x3]\n",
        "              [4, 5, 6]], dtype=np.int32) # 2차원 행렬\n",
        "\n",
        "print(f'type(a)   {type(a)}')\n",
        "print(f'a.ndim    {a.ndim}')   # number of dimensions(=axes)\n",
        "print(f'a.shape   {a.shape}')  # dimensions of the array\n",
        "print(f'a.size    {a.size}')   # total number of elements\n",
        "print(f'a.dtype   {a.dtype}')  # type of the elements"
      ],
      "execution_count": 12,
      "outputs": [
        {
          "output_type": "stream",
          "text": [
            "type(a)   <class 'numpy.ndarray'>\n",
            "a.ndim    2\n",
            "a.shape   (2, 3)\n",
            "a.size    6\n",
            "a.dtype   int32\n"
          ],
          "name": "stdout"
        }
      ]
    },
    {
      "cell_type": "markdown",
      "metadata": {
        "id": "CYsqcCD4xpTM"
      },
      "source": [
        "**1-4. Array creation**"
      ]
    },
    {
      "cell_type": "markdown",
      "metadata": {
        "id": "-cQq_79ayFsP"
      },
      "source": [
        "1) from a regular python list or tuple"
      ]
    },
    {
      "cell_type": "code",
      "metadata": {
        "id": "mOL9EsGoxGu0"
      },
      "source": [
        "np.array([1, 2, 3, 4, 5, 6])"
      ],
      "execution_count": null,
      "outputs": []
    },
    {
      "cell_type": "markdown",
      "metadata": {
        "id": "lWSJgOg_yRRQ"
      },
      "source": [
        "2) Using NumPy functions"
      ]
    },
    {
      "cell_type": "code",
      "metadata": {
        "colab": {
          "base_uri": "https://localhost:8080/"
        },
        "id": "onPVigCqyRbU",
        "outputId": "02722f5e-b28a-4184-cd94-e6e1ae00b82c"
      },
      "source": [
        "np.zeros((3, 4))"
      ],
      "execution_count": 13,
      "outputs": [
        {
          "output_type": "execute_result",
          "data": {
            "text/plain": [
              "array([[0., 0., 0., 0.],\n",
              "       [0., 0., 0., 0.],\n",
              "       [0., 0., 0., 0.]])"
            ]
          },
          "metadata": {
            "tags": []
          },
          "execution_count": 13
        }
      ]
    },
    {
      "cell_type": "code",
      "metadata": {
        "colab": {
          "base_uri": "https://localhost:8080/"
        },
        "id": "07gY0WB3yUWD",
        "outputId": "20fa4bd4-513f-4c85-aa77-8760c5eb56ab"
      },
      "source": [
        "np.ones((2, 3, 4), dtype=int)"
      ],
      "execution_count": 14,
      "outputs": [
        {
          "output_type": "execute_result",
          "data": {
            "text/plain": [
              "array([[[1, 1, 1, 1],\n",
              "        [1, 1, 1, 1],\n",
              "        [1, 1, 1, 1]],\n",
              "\n",
              "       [[1, 1, 1, 1],\n",
              "        [1, 1, 1, 1],\n",
              "        [1, 1, 1, 1]]])"
            ]
          },
          "metadata": {
            "tags": []
          },
          "execution_count": 14
        }
      ]
    },
    {
      "cell_type": "markdown",
      "metadata": {
        "id": "3KQ3H3s4yZA9"
      },
      "source": [
        "3) np.random"
      ]
    },
    {
      "cell_type": "code",
      "metadata": {
        "colab": {
          "base_uri": "https://localhost:8080/"
        },
        "id": "BqtVSmdfyWmW",
        "outputId": "d741a784-8867-45b0-e44f-75e76507080b"
      },
      "source": [
        "np.random.rand(2, 3)"
      ],
      "execution_count": 15,
      "outputs": [
        {
          "output_type": "execute_result",
          "data": {
            "text/plain": [
              "array([[0.33182067, 0.14710424, 0.08496669],\n",
              "       [0.31460566, 0.71679053, 0.77680067]])"
            ]
          },
          "metadata": {
            "tags": []
          },
          "execution_count": 15
        }
      ]
    },
    {
      "cell_type": "code",
      "metadata": {
        "colab": {
          "base_uri": "https://localhost:8080/"
        },
        "id": "_CTuOvt6ycqS",
        "outputId": "a688e09b-c7d5-45d3-96d2-2f8a6e2f2f06"
      },
      "source": [
        "np.random.rand(2, 3)"
      ],
      "execution_count": 16,
      "outputs": [
        {
          "output_type": "execute_result",
          "data": {
            "text/plain": [
              "array([[0.2704677 , 0.64468362, 0.66353876],\n",
              "       [0.15327836, 0.03201578, 0.45136192]])"
            ]
          },
          "metadata": {
            "tags": []
          },
          "execution_count": 16
        }
      ]
    },
    {
      "cell_type": "code",
      "metadata": {
        "id": "buhFkVbTyegl"
      },
      "source": [
        ""
      ],
      "execution_count": null,
      "outputs": []
    },
    {
      "cell_type": "markdown",
      "metadata": {
        "id": "d-ZHJ5rcygcA"
      },
      "source": [
        "<b>1-6. Basic operations</b>\n",
        "\n",
        "\n",
        "Arithmetic operators on arrays apply elementwise."
      ]
    },
    {
      "cell_type": "code",
      "metadata": {
        "colab": {
          "base_uri": "https://localhost:8080/"
        },
        "id": "UIk9vU8ByjBH",
        "outputId": "c7dc90fe-b651-4f5d-ee59-bd465f297f66"
      },
      "source": [
        "a = np.arange(6)\n",
        "b = np.arange(6)\n",
        "a"
      ],
      "execution_count": 20,
      "outputs": [
        {
          "output_type": "execute_result",
          "data": {
            "text/plain": [
              "array([0, 1, 2, 3, 4, 5])"
            ]
          },
          "metadata": {
            "tags": []
          },
          "execution_count": 20
        }
      ]
    },
    {
      "cell_type": "code",
      "metadata": {
        "colab": {
          "base_uri": "https://localhost:8080/"
        },
        "id": "KPxFHzlKys0J",
        "outputId": "279cc7be-aec7-4d25-f0cc-595904fdee31"
      },
      "source": [
        "a * 2"
      ],
      "execution_count": 18,
      "outputs": [
        {
          "output_type": "execute_result",
          "data": {
            "text/plain": [
              "array([ 0,  2,  4,  6,  8, 10])"
            ]
          },
          "metadata": {
            "tags": []
          },
          "execution_count": 18
        }
      ]
    },
    {
      "cell_type": "code",
      "metadata": {
        "colab": {
          "base_uri": "https://localhost:8080/"
        },
        "id": "zwdQgBMDyvzt",
        "outputId": "7c1efc26-66c3-4422-be73-9053ed5f1c16"
      },
      "source": [
        "a % 2 == 0"
      ],
      "execution_count": 21,
      "outputs": [
        {
          "output_type": "execute_result",
          "data": {
            "text/plain": [
              "array([ True, False,  True, False,  True, False])"
            ]
          },
          "metadata": {
            "tags": []
          },
          "execution_count": 21
        }
      ]
    },
    {
      "cell_type": "markdown",
      "metadata": {
        "id": "fqAQ9shSziIX"
      },
      "source": [
        "Unary operations"
      ]
    },
    {
      "cell_type": "code",
      "metadata": {
        "colab": {
          "base_uri": "https://localhost:8080/"
        },
        "id": "Lfhe5Xxry3LK",
        "outputId": "c0c38d5e-ad39-4c5b-845d-1ae9328fb946"
      },
      "source": [
        "a = np.random.random((3, 4))\n",
        "a"
      ],
      "execution_count": 22,
      "outputs": [
        {
          "output_type": "execute_result",
          "data": {
            "text/plain": [
              "array([[0.63107909, 0.10164599, 0.47537368, 0.37160226],\n",
              "       [0.41737458, 0.20461333, 0.51426424, 0.81747719],\n",
              "       [0.85404957, 0.85100782, 0.26239071, 0.23590005]])"
            ]
          },
          "metadata": {
            "tags": []
          },
          "execution_count": 22
        }
      ]
    },
    {
      "cell_type": "code",
      "metadata": {
        "colab": {
          "base_uri": "https://localhost:8080/"
        },
        "id": "AuhZQA_J0qLv",
        "outputId": "6f5da195-f502-45e3-c755-250a5bc57bc6"
      },
      "source": [
        "\n",
        "print(f'a.sum()   {a.sum()}')\n",
        "print(f'a.min()   {a.min()}')\n",
        "print(f'a.max()   {a.max()}')\n",
        "print(f'a.mean()  {a.mean()}')\n",
        "print(f'a.std()   {a.std()}') # Z값. 표준화"
      ],
      "execution_count": 23,
      "outputs": [
        {
          "output_type": "stream",
          "text": [
            "a.sum()   5.736778513729498\n",
            "a.min()   0.10164598509918299\n",
            "a.max()   0.8540495732376182\n",
            "a.mean()  0.47806487614412485\n",
            "a.std()   0.25116832278382617\n"
          ],
          "name": "stdout"
        }
      ]
    },
    {
      "cell_type": "markdown",
      "metadata": {
        "id": "Y2lhx_oT1kCg"
      },
      "source": [
        "<b>1-7. Matrix operations</b>\n",
        "\n",
        "\n",
        "Multiplication"
      ]
    },
    {
      "cell_type": "code",
      "metadata": {
        "id": "LBJyUiIt1h5k"
      },
      "source": [
        "a = np.arange(2*3).reshape((2, 3))\n",
        "b = np.arange(3*4).reshape((3, 4))"
      ],
      "execution_count": 25,
      "outputs": []
    },
    {
      "cell_type": "markdown",
      "metadata": {
        "id": "RQuUHDvE15qq"
      },
      "source": [
        ""
      ]
    },
    {
      "cell_type": "code",
      "metadata": {
        "colab": {
          "base_uri": "https://localhost:8080/"
        },
        "id": "4OtrHTSa0qU-",
        "outputId": "67b057a7-51da-49bc-9d4f-01631dd553d0"
      },
      "source": [
        "# a:[2x3]  b:[3x4]  ab:[2x4]\n",
        "np.matmul(a, b)"
      ],
      "execution_count": 26,
      "outputs": [
        {
          "output_type": "execute_result",
          "data": {
            "text/plain": [
              "array([[20, 23, 26, 29],\n",
              "       [56, 68, 80, 92]])"
            ]
          },
          "metadata": {
            "tags": []
          },
          "execution_count": 26
        }
      ]
    },
    {
      "cell_type": "code",
      "metadata": {
        "colab": {
          "base_uri": "https://localhost:8080/"
        },
        "id": "J_2CVHx03C1T",
        "outputId": "74d0e593-1cf5-4159-9b13-4649475392a8"
      },
      "source": [
        "# np.matmul(a, b) : matrix product of a and b\n",
        "# np.dot(a, b)    : dot product of a and b\n",
        "# these give us the same results `only for 2D array`\n",
        "np.dot(a, b)"
      ],
      "execution_count": 27,
      "outputs": [
        {
          "output_type": "execute_result",
          "data": {
            "text/plain": [
              "array([[20, 23, 26, 29],\n",
              "       [56, 68, 80, 92]])"
            ]
          },
          "metadata": {
            "tags": []
          },
          "execution_count": 27
        }
      ]
    },
    {
      "cell_type": "markdown",
      "metadata": {
        "id": "u96stq8P375Y"
      },
      "source": [
        "Transpose"
      ]
    },
    {
      "cell_type": "code",
      "metadata": {
        "colab": {
          "base_uri": "https://localhost:8080/"
        },
        "id": "iKghpZ9_3-LU",
        "outputId": "e2b7f156-93a5-40b8-8640-512d18240d74"
      },
      "source": [
        "b"
      ],
      "execution_count": 28,
      "outputs": [
        {
          "output_type": "execute_result",
          "data": {
            "text/plain": [
              "array([[ 0,  1,  2,  3],\n",
              "       [ 4,  5,  6,  7],\n",
              "       [ 8,  9, 10, 11]])"
            ]
          },
          "metadata": {
            "tags": []
          },
          "execution_count": 28
        }
      ]
    },
    {
      "cell_type": "code",
      "metadata": {
        "colab": {
          "base_uri": "https://localhost:8080/"
        },
        "id": "k5tGuZ403-_u",
        "outputId": "e1332603-f51e-4f19-d2a7-946e3582d8cc"
      },
      "source": [
        "np.transpose(b)"
      ],
      "execution_count": 29,
      "outputs": [
        {
          "output_type": "execute_result",
          "data": {
            "text/plain": [
              "array([[ 0,  4,  8],\n",
              "       [ 1,  5,  9],\n",
              "       [ 2,  6, 10],\n",
              "       [ 3,  7, 11]])"
            ]
          },
          "metadata": {
            "tags": []
          },
          "execution_count": 29
        }
      ]
    },
    {
      "cell_type": "code",
      "metadata": {
        "colab": {
          "base_uri": "https://localhost:8080/"
        },
        "id": "iqLBDi114XHk",
        "outputId": "cfde2961-125b-4a0e-bd26-3f96d46ebb2e"
      },
      "source": [
        "b.T"
      ],
      "execution_count": 30,
      "outputs": [
        {
          "output_type": "execute_result",
          "data": {
            "text/plain": [
              "array([[ 0,  4,  8],\n",
              "       [ 1,  5,  9],\n",
              "       [ 2,  6, 10],\n",
              "       [ 3,  7, 11]])"
            ]
          },
          "metadata": {
            "tags": []
          },
          "execution_count": 30
        }
      ]
    },
    {
      "cell_type": "markdown",
      "metadata": {
        "id": "RDhplisR4hoM"
      },
      "source": [
        "<b>1-8. Indexing, Slicing</b>"
      ]
    },
    {
      "cell_type": "code",
      "metadata": {
        "colab": {
          "base_uri": "https://localhost:8080/"
        },
        "id": "SLDyTcSZ4YAJ",
        "outputId": "e5636775-57e3-42df-ce40-741c62a47787"
      },
      "source": [
        "b"
      ],
      "execution_count": 31,
      "outputs": [
        {
          "output_type": "execute_result",
          "data": {
            "text/plain": [
              "array([[ 0,  1,  2,  3],\n",
              "       [ 4,  5,  6,  7],\n",
              "       [ 8,  9, 10, 11]])"
            ]
          },
          "metadata": {
            "tags": []
          },
          "execution_count": 31
        }
      ]
    },
    {
      "cell_type": "code",
      "metadata": {
        "colab": {
          "base_uri": "https://localhost:8080/"
        },
        "id": "-NMTvIMp4nIg",
        "outputId": "df52b353-7aa7-443a-d1d0-2801dc6610b1"
      },
      "source": [
        "b[1, 2]"
      ],
      "execution_count": 32,
      "outputs": [
        {
          "output_type": "execute_result",
          "data": {
            "text/plain": [
              "6"
            ]
          },
          "metadata": {
            "tags": []
          },
          "execution_count": 32
        }
      ]
    },
    {
      "cell_type": "code",
      "metadata": {
        "colab": {
          "base_uri": "https://localhost:8080/"
        },
        "id": "4RC5g0cN4oVE",
        "outputId": "f7771560-120d-4f3e-dced-391a1b2012a1"
      },
      "source": [
        "b[:, 3]"
      ],
      "execution_count": 33,
      "outputs": [
        {
          "output_type": "execute_result",
          "data": {
            "text/plain": [
              "array([ 3,  7, 11])"
            ]
          },
          "metadata": {
            "tags": []
          },
          "execution_count": 33
        }
      ]
    },
    {
      "cell_type": "code",
      "metadata": {
        "colab": {
          "base_uri": "https://localhost:8080/"
        },
        "id": "qe1m1fMj4rkC",
        "outputId": "f885ac9b-94d9-4edc-bbf5-3b8ca2830e7d"
      },
      "source": [
        "b[1, :]"
      ],
      "execution_count": 34,
      "outputs": [
        {
          "output_type": "execute_result",
          "data": {
            "text/plain": [
              "array([4, 5, 6, 7])"
            ]
          },
          "metadata": {
            "tags": []
          },
          "execution_count": 34
        }
      ]
    },
    {
      "cell_type": "code",
      "metadata": {
        "colab": {
          "base_uri": "https://localhost:8080/"
        },
        "id": "37Z2k26Z4uib",
        "outputId": "85f8cdc0-6a34-4f5c-bde0-6c16c9e28899"
      },
      "source": [
        "b[1:3, 1:3]"
      ],
      "execution_count": 36,
      "outputs": [
        {
          "output_type": "execute_result",
          "data": {
            "text/plain": [
              "array([[ 5,  6],\n",
              "       [ 9, 10]])"
            ]
          },
          "metadata": {
            "tags": []
          },
          "execution_count": 36
        }
      ]
    },
    {
      "cell_type": "code",
      "metadata": {
        "id": "hoU7teF44wcK"
      },
      "source": [
        ""
      ],
      "execution_count": null,
      "outputs": []
    }
  ]
}